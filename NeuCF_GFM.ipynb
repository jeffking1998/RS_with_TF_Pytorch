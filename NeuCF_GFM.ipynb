{
  "nbformat": 4,
  "nbformat_minor": 0,
  "metadata": {
    "colab": {
      "name": "NeuCF-GFM.ipynb",
      "provenance": [],
      "collapsed_sections": [],
      "authorship_tag": "ABX9TyPFfDUqbBPY0dDCasJOd2ht",
      "include_colab_link": true
    },
    "kernelspec": {
      "name": "python3",
      "display_name": "Python 3"
    },
    "language_info": {
      "name": "python"
    },
    "accelerator": "GPU"
  },
  "cells": [
    {
      "cell_type": "markdown",
      "metadata": {
        "id": "view-in-github",
        "colab_type": "text"
      },
      "source": [
        "<a href=\"https://colab.research.google.com/github/jeffking1998/pytorch_RS_D2L/blob/main/NeuCF_GFM.ipynb\" target=\"_parent\"><img src=\"https://colab.research.google.com/assets/colab-badge.svg\" alt=\"Open In Colab\"/></a>"
      ]
    },
    {
      "cell_type": "code",
      "source": [
        "import tensorflow as tf\n",
        "print(\"Num GPUs Available: \", len(tf.config.experimental.list_physical_devices('GPU')))\n",
        "# tf.debugging.set_log_device_placement(True)"
      ],
      "metadata": {
        "colab": {
          "base_uri": "https://localhost:8080/"
        },
        "id": "YwG9SuOq5voV",
        "outputId": "8a5196ce-2c58-4be6-8c0b-93a3b493a1c5"
      },
      "execution_count": null,
      "outputs": [
        {
          "output_type": "stream",
          "name": "stdout",
          "text": [
            "Num GPUs Available:  1\n"
          ]
        }
      ]
    },
    {
      "cell_type": "code",
      "execution_count": null,
      "metadata": {
        "colab": {
          "base_uri": "https://localhost:8080/"
        },
        "id": "31_F6c562hZz",
        "outputId": "e9f07bff-1ee3-47ee-eb30-a37fc233966f"
      },
      "outputs": [
        {
          "output_type": "stream",
          "name": "stdout",
          "text": [
            "Mounted at /content/drive\n"
          ]
        }
      ],
      "source": [
        "## connect Google Drive\n",
        "from google.colab import drive\n",
        "drive.mount('/content/drive', force_remount=True) #, force_remount=True\n",
        "mvlens_dir = '/content/drive/MyDrive/data/ml-1m/'"
      ]
    },
    {
      "cell_type": "code",
      "source": [
        "!ls /content/drive/MyDrive/data/ml-1m/"
      ],
      "metadata": {
        "colab": {
          "base_uri": "https://localhost:8080/"
        },
        "id": "PR0VUDCIIn9F",
        "outputId": "d4037de8-ee10-48e0-d83d-5dcc6c0d5bc3"
      },
      "execution_count": null,
      "outputs": [
        {
          "output_type": "stream",
          "name": "stdout",
          "text": [
            "checkpoint\t\t\t     ml-1m.test.rating\n",
            "gmf.ckpt.data-00000-of-00001\t     ml-1m.train.rating\n",
            "gmf.ckpt.index\t\t\t     pinterest-20.test.negative\n",
            "gmf_on_gpu.ckpt.data-00000-of-00001  pinterest-20.test.rating\n",
            "gmf_on_gpu.ckpt.index\t\t     pinterest-20.train.rating\n",
            "ml-1m.test.negative\n"
          ]
        }
      ]
    },
    {
      "cell_type": "code",
      "source": [
        "import scipy.sparse as sp\n",
        "import numpy as np\n",
        "import multiprocessing\n",
        "import heapq\n",
        "import os\n",
        "import math \n",
        "from time import time"
      ],
      "metadata": {
        "id": "a68ncjIa3bwW"
      },
      "execution_count": null,
      "outputs": []
    },
    {
      "cell_type": "code",
      "source": [
        "\n",
        "class Dataset(object):\n",
        "    '''\n",
        "    classdocs\n",
        "    '''\n",
        "\n",
        "    def __init__(self, path):\n",
        "        '''\n",
        "        Constructor\n",
        "        '''\n",
        "        self.trainMatrix = self.load_rating_file_as_matrix(path + \".train.rating\")\n",
        "        self.testRatings = self.load_rating_file_as_list(path + \".test.rating\")\n",
        "        self.testNegatives = self.load_negative_file(path + \".test.negative\")\n",
        "        assert len(self.testRatings) == len(self.testNegatives)\n",
        "        \n",
        "        self.num_users, self.num_items = self.trainMatrix.shape\n",
        "        \n",
        "    def load_rating_file_as_list(self, filename):\n",
        "        ratingList = []\n",
        "        with open(filename, \"r\") as f:\n",
        "            line = f.readline()\n",
        "            while line != None and line != \"\":\n",
        "                arr = line.split(\"\\t\")\n",
        "                user, item = int(arr[0]), int(arr[1])\n",
        "                ratingList.append([user, item])\n",
        "                line = f.readline()\n",
        "        return ratingList\n",
        "    \n",
        "    def load_negative_file(self, filename):\n",
        "        negativeList = []\n",
        "        with open(filename, \"r\") as f:\n",
        "            line = f.readline()\n",
        "            while line != None and line != \"\":\n",
        "                arr = line.split(\"\\t\")\n",
        "                negatives = []\n",
        "                for x in arr[1: ]:\n",
        "                    negatives.append(int(x))\n",
        "                negativeList.append(negatives)\n",
        "                line = f.readline()\n",
        "        return negativeList\n",
        "    \n",
        "    def load_rating_file_as_matrix(self, filename):\n",
        "        '''\n",
        "        Read .rating file and Return dok matrix.\n",
        "        The first line of .rating file is: num_users\\t num_items\n",
        "        '''\n",
        "        # Get number of users and items\n",
        "        num_users, num_items = 0, 0\n",
        "        with open(filename, \"r\") as f:\n",
        "            line = f.readline()\n",
        "            while line != None and line != \"\":\n",
        "                arr = line.split(\"\\t\")\n",
        "                u, i = int(arr[0]), int(arr[1])\n",
        "                num_users = max(num_users, u)\n",
        "                num_items = max(num_items, i)\n",
        "                line = f.readline()\n",
        "        # Construct matrix\n",
        "        mat = sp.dok_matrix((num_users+1, num_items+1), dtype=np.float32)\n",
        "        with open(filename, \"r\") as f:\n",
        "            line = f.readline()\n",
        "            while line != None and line != \"\":\n",
        "                arr = line.split(\"\\t\")\n",
        "                user, item, rating = int(arr[0]), int(arr[1]), float(arr[2])\n",
        "                if (rating > 0):\n",
        "                    mat[user, item] = 1.0\n",
        "                line = f.readline()    \n",
        "        return mat\n"
      ],
      "metadata": {
        "id": "rsi3vvM53TMo"
      },
      "execution_count": null,
      "outputs": []
    },
    {
      "cell_type": "code",
      "source": [
        "# TensorFlow and tf.keras\n",
        "import tensorflow as tf\n",
        "from tensorflow import keras\n",
        "\n",
        "# Helper libraries\n",
        "import numpy as np\n",
        "import matplotlib.pyplot as plt\n",
        "\n",
        "print(tf.__version__)\n",
        "from keras.layers import Input, Embedding, Flatten, Multiply, Dense\n",
        "from keras import regularizers\n",
        "from keras.models import Model\n",
        "# from keras.optimizers import Adam"
      ],
      "metadata": {
        "colab": {
          "base_uri": "https://localhost:8080/"
        },
        "id": "bI9--jgQ3-oD",
        "outputId": "55d8ad59-24ea-450d-84e7-45e94aefe52d"
      },
      "execution_count": null,
      "outputs": [
        {
          "output_type": "stream",
          "name": "stdout",
          "text": [
            "2.8.0\n"
          ]
        }
      ]
    },
    {
      "cell_type": "code",
      "source": [
        "# import tensorflow.keras.backend as K\n",
        "# K.tensorflow_backend._get_available_gpus()"
      ],
      "metadata": {
        "id": "7gaKGOQR5D8u"
      },
      "execution_count": null,
      "outputs": []
    },
    {
      "cell_type": "code",
      "source": [
        "# from keras.models import Sequential\n",
        "# from keras.layers import Dense, Activation\n",
        "\n",
        "# def sequential_NeuCF(num_users, num_items, latent_dim):\n",
        "#     ## user_seq\n",
        "#     user_seq = Sequential() # why (1,)\n",
        "#     user_seq.add(Input(shape=(1,), dtype='int32', name='user_input')\n",
        "#     user_seq.add(Embedding(input_dim=num_users, \n",
        "#                            output_dim=latent_dim, \n",
        "#                            embeddings_initializer='uniform',\n",
        "#                            embeddings_regularizer=regularizers.l2(regs[0]),\n",
        "#                            input_length=1)\n",
        "#                 )\n",
        "#     user_seq.add(Flatten())\n",
        "    \n",
        "#     ## item_seq\n",
        "#     item_seq = Sequential()\n",
        "#     item_seq.add(Input(shape=(1,), dtype='int32', name='item_input')\n",
        "#     item_seq.add(Embedding(input_dim=num_items, \n",
        "#                            output_dim=latent_dim,\n",
        "#                            embeddings_initializer='uniform',\n",
        "#                            embeddings_regularizer=regularizers.l2(regs[1]),\n",
        "#                            input_length=1)\n",
        "#                 )\n",
        "#     item_seq.add(Flatten())\n",
        "\n",
        "#     ## NeuCF model\n",
        "#     model = Sequential()\n",
        "#     model.add(Multiply()([user_latent, item_latent]))\n",
        "\n",
        "# model.add(layers.Dense(2, activation=\"relu\"))\n",
        "\n",
        "# model.summary()"
      ],
      "metadata": {
        "id": "mR1SeFZIHz51"
      },
      "execution_count": null,
      "outputs": []
    },
    {
      "cell_type": "code",
      "source": [
        "def get_model(num_users, num_items, latent_dim, regs=[0,0] ):\n",
        "    user_input = Input(shape=(1,), dtype='int32', name='user_input') \n",
        "    item_input = Input(shape=(1,), dtype='int32', name='item_input')\n",
        "\n",
        "    user_Embedding = Embedding(input_dim=num_users, output_dim=latent_dim, embeddings_initializer='uniform',\n",
        "                               embeddings_regularizer=regularizers.l2(regs[0]),\n",
        "                               input_length=1,\n",
        "                               )\n",
        "\n",
        "    item_Embedding = Embedding(input_dim=num_items, output_dim=latent_dim,\n",
        "                               embeddings_initializer='uniform',\n",
        "                               embeddings_regularizer=regularizers.l2(regs[1]),\n",
        "                               input_length=1,\n",
        "                               )\n",
        "\n",
        "    user_latent = Flatten()(user_Embedding(user_input))\n",
        "    item_latent = Flatten()(item_Embedding(item_input)) ##why (class's params)(args)\n",
        "\n",
        "    predict_vertor = Multiply()([user_latent, item_latent])\n",
        "\n",
        "    prediction = Dense(units=1,\n",
        "                       activation='sigmoid',\n",
        "                       kernel_initializer='lecun_uniform',\n",
        "                       name = 'prediction', \n",
        "                       )(predict_vertor)\n",
        "    model = Model(inputs=[user_input, item_input], outputs=prediction)\n",
        "    return model \n",
        "\n",
        "\n",
        "dataset = Dataset(mvlens_dir + 'ml-1m')\n",
        "train, testRatings, testNegatives = dataset.trainMatrix, dataset.testRatings, dataset.testNegatives\n",
        "num_users, num_items = train.shape\n",
        "\n",
        "alpha = 0.001\n",
        "\n",
        "model = get_model(num_users=num_users, num_items=num_items, latent_dim=8, regs=[0,0])\n",
        "model.compile(optimizer=keras.optimizers.Adam(learning_rate=alpha), loss=\"binary_crossentropy\")\n"
      ],
      "metadata": {
        "id": "_DzDxBAM3_W1"
      },
      "execution_count": null,
      "outputs": []
    },
    {
      "cell_type": "code",
      "source": [
        "model.summary()\n"
      ],
      "metadata": {
        "colab": {
          "base_uri": "https://localhost:8080/"
        },
        "id": "8xOGv8WmDQ6g",
        "outputId": "a9fc252c-3d46-4655-e43c-977d1d729602"
      },
      "execution_count": null,
      "outputs": [
        {
          "output_type": "stream",
          "name": "stdout",
          "text": [
            "Model: \"model\"\n",
            "__________________________________________________________________________________________________\n",
            " Layer (type)                   Output Shape         Param #     Connected to                     \n",
            "==================================================================================================\n",
            " user_input (InputLayer)        [(None, 1)]          0           []                               \n",
            "                                                                                                  \n",
            " item_input (InputLayer)        [(None, 1)]          0           []                               \n",
            "                                                                                                  \n",
            " embedding (Embedding)          (None, 1, 8)         48320       ['user_input[0][0]']             \n",
            "                                                                                                  \n",
            " embedding_1 (Embedding)        (None, 1, 8)         29648       ['item_input[0][0]']             \n",
            "                                                                                                  \n",
            " flatten (Flatten)              (None, 8)            0           ['embedding[0][0]']              \n",
            "                                                                                                  \n",
            " flatten_1 (Flatten)            (None, 8)            0           ['embedding_1[0][0]']            \n",
            "                                                                                                  \n",
            " multiply (Multiply)            (None, 8)            0           ['flatten[0][0]',                \n",
            "                                                                  'flatten_1[0][0]']              \n",
            "                                                                                                  \n",
            " prediction (Dense)             (None, 1)            9           ['multiply[0][0]']               \n",
            "                                                                                                  \n",
            "==================================================================================================\n",
            "Total params: 77,977\n",
            "Trainable params: 77,977\n",
            "Non-trainable params: 0\n",
            "__________________________________________________________________________________________________\n"
          ]
        }
      ]
    },
    {
      "cell_type": "code",
      "source": [
        "type(train)"
      ],
      "metadata": {
        "colab": {
          "base_uri": "https://localhost:8080/"
        },
        "id": "_3EB3V_tKGuf",
        "outputId": "2f30006a-88b9-42d4-84fb-5b3f160f1a84"
      },
      "execution_count": null,
      "outputs": [
        {
          "output_type": "execute_result",
          "data": {
            "text/plain": [
              "scipy.sparse.dok.dok_matrix"
            ]
          },
          "metadata": {},
          "execution_count": 10
        }
      ]
    },
    {
      "cell_type": "code",
      "source": [
        "def get_train_instances(train, num_negatives):\n",
        "    user_input, item_input, labels = [],[],[]\n",
        "    num_users = train.shape[0]\n",
        "    for (u, i) in train.keys():\n",
        "        # positive instance\n",
        "        user_input.append(u)\n",
        "        item_input.append(i)\n",
        "        labels.append(1)\n",
        "        # negative instances\n",
        "        for t in range(num_negatives):\n",
        "            j = np.random.randint(num_items)\n",
        "            while (u, j) in train:\n",
        "                j = np.random.randint(num_items)\n",
        "            user_input.append(u)\n",
        "            item_input.append(j)\n",
        "            labels.append(0)\n",
        "    return user_input, item_input, labels\n",
        "\n",
        "\n",
        "user_input, item_input, labels = get_train_instances(train, num_negatives=4)        "
      ],
      "metadata": {
        "id": "ep9m6d0qEF2B"
      },
      "execution_count": null,
      "outputs": []
    },
    {
      "cell_type": "code",
      "source": [
        "labels[:4]"
      ],
      "metadata": {
        "colab": {
          "base_uri": "https://localhost:8080/"
        },
        "id": "74R_o-eMKkoB",
        "outputId": "d175d44a-d225-4bc5-d341-9558da942583"
      },
      "execution_count": null,
      "outputs": [
        {
          "output_type": "execute_result",
          "data": {
            "text/plain": [
              "[1, 0, 0, 0]"
            ]
          },
          "metadata": {},
          "execution_count": 12
        }
      ]
    },
    {
      "cell_type": "code",
      "source": [
        "def eval_one_rating(idx):\n",
        "    rating = _testRatings[idx]\n",
        "    items = _testNegatives[idx]\n",
        "    u = rating[0]\n",
        "    gtItem = rating[1]\n",
        "    items.append(gtItem)\n",
        "    # Get prediction scores\n",
        "    map_item_score = {}\n",
        "    users = np.full(len(items), u, dtype = 'int32')\n",
        "    predictions = _model.predict([users, np.array(items)], \n",
        "                                 batch_size=100, verbose=0)\n",
        "    for i in range(len(items)):\n",
        "        item = items[i]\n",
        "        map_item_score[item] = predictions[i]\n",
        "    items.pop()\n",
        "    \n",
        "    # Evaluate top rank list\n",
        "    ranklist = heapq.nlargest(_K, map_item_score, key=map_item_score.get)\n",
        "    hr = getHitRatio(ranklist, gtItem)\n",
        "    ndcg = getNDCG(ranklist, gtItem)\n",
        "    return (hr, ndcg)\n",
        "\n",
        "def getHitRatio(ranklist, gtItem):\n",
        "    for item in ranklist:\n",
        "        if item == gtItem:\n",
        "            return 1\n",
        "    return 0\n",
        "\n",
        "def getNDCG(ranklist, gtItem):\n",
        "    for i in range(len(ranklist)):\n",
        "        item = ranklist[i]\n",
        "        if item == gtItem:\n",
        "            return math.log(2) / math.log(i+2)\n",
        "    return 0\n",
        "\n",
        "\n",
        "def evaluate_model(model, testRatings, testNegatives, K, num_thread):\n",
        "    \"\"\"\n",
        "    Evaluate the performance (Hit_Ratio, NDCG) of top-K recommendation\n",
        "    Return: score of each test rating.\n",
        "    \"\"\"\n",
        "    global _model\n",
        "    global _testRatings\n",
        "    global _testNegatives\n",
        "    global _K\n",
        "    _model = model\n",
        "    _testRatings = testRatings\n",
        "    _testNegatives = testNegatives\n",
        "    _K = K\n",
        "        \n",
        "    hits, ndcgs = [],[]\n",
        "    if(num_thread > 1): # Multi-thread\n",
        "        pool = multiprocessing.Pool(processes=num_thread)\n",
        "        res = pool.map(eval_one_rating, range(len(_testRatings)))\n",
        "        pool.close()\n",
        "        pool.join()\n",
        "        hits = [r[0] for r in res]\n",
        "        ndcgs = [r[1] for r in res]\n",
        "        return (hits, ndcgs)\n",
        "    # Single thread\n",
        "    for idx in range(len(_testRatings)):\n",
        "        (hr,ndcg) = eval_one_rating(idx)\n",
        "        hits.append(hr)\n",
        "        ndcgs.append(ndcg)      \n",
        "    return (hits, ndcgs)\n"
      ],
      "metadata": {
        "id": "GoINq48kFtjR"
      },
      "execution_count": null,
      "outputs": []
    },
    {
      "cell_type": "code",
      "source": [
        "checkpoint_path = mvlens_dir + \"gmf_on_gpu.ckpt\"\n",
        "checkpoint_dir = os.path.dirname(checkpoint_path)\n",
        "\n",
        "# Create a callback that saves the model's weights\n",
        "cp_callback = tf.keras.callbacks.ModelCheckpoint(filepath=checkpoint_path,\n",
        "                                                 save_weights_only=True,\n",
        "                                                 verbose=1)\n",
        "\n",
        "batch_size = 256\n",
        "num_epochs = 20\n",
        "\n",
        "topK = 10\n",
        "evaluation_threads = 1 #mp.cpu_count()\n",
        "\n",
        "for ep in range(num_epochs):\n",
        "\n",
        "    # Train the model with the new callback\n",
        "    history = model.fit(x=[np.array(user_input), np.array(item_input)], \n",
        "                    y=np.array(labels),  \n",
        "                    epochs=1,\n",
        "                    batch_size=batch_size, verbose=0, shuffle=True,\n",
        "                    #   validation_data=(test_images, test_labels),\n",
        "                    callbacks=[cp_callback]\n",
        "                    )  # Pass callback to training\n",
        "\n",
        "                        # This may generate warnings related to saving the state of the optimizer.\n",
        "                        # These warnings (and similar warnings throughout this notebook)\n",
        "                        # are in place to discourage outdated usage, and can be ignored.\n",
        "\n",
        "\n",
        "\n",
        "    hits, ndcgs = evaluate_model(model, testRatings, testNegatives, topK, evaluation_threads)\n",
        "    hr, ndcg = np.array(hits).mean(), np.array(ndcgs).mean()\n",
        "    loss = history.history['loss'][0]\n",
        "\n",
        "    print('Iter {}: HR = {:.4f}, NDCG = {:.4f}, Loss = {}\\t '.format(ep+1, hr, ndcg, loss))\n"
      ],
      "metadata": {
        "colab": {
          "base_uri": "https://localhost:8080/"
        },
        "id": "gtj7x068DRgR",
        "outputId": "72302a11-d4ec-494b-efd7-f5bb4854a7c0"
      },
      "execution_count": null,
      "outputs": [
        {
          "metadata": {
            "tags": null
          },
          "name": "stdout",
          "output_type": "stream",
          "text": [
            "\n",
            "Epoch 1: saving model to /content/drive/MyDrive/data/ml-1m/gmf_on_gpu.ckpt\n",
            "Iter 1: HR = 0.5242, NDCG = 0.2956, Loss = 0.36043569445610046\t \n",
            "\n",
            "Epoch 1: saving model to /content/drive/MyDrive/data/ml-1m/gmf_on_gpu.ckpt\n",
            "Iter 2: HR = 0.5786, NDCG = 0.3279, Loss = 0.3011660575866699\t \n",
            "\n",
            "Epoch 1: saving model to /content/drive/MyDrive/data/ml-1m/gmf_on_gpu.ckpt\n",
            "Iter 3: HR = 0.5987, NDCG = 0.3418, Loss = 0.2858373820781708\t \n",
            "\n",
            "Epoch 1: saving model to /content/drive/MyDrive/data/ml-1m/gmf_on_gpu.ckpt\n",
            "Iter 4: HR = 0.6089, NDCG = 0.3468, Loss = 0.27739977836608887\t \n",
            "\n",
            "Epoch 1: saving model to /content/drive/MyDrive/data/ml-1m/gmf_on_gpu.ckpt\n",
            "Iter 5: HR = 0.6147, NDCG = 0.3505, Loss = 0.27407434582710266\t \n",
            "\n",
            "Epoch 1: saving model to /content/drive/MyDrive/data/ml-1m/gmf_on_gpu.ckpt\n",
            "Iter 6: HR = 0.6232, NDCG = 0.3560, Loss = 0.27229857444763184\t \n",
            "\n",
            "Epoch 1: saving model to /content/drive/MyDrive/data/ml-1m/gmf_on_gpu.ckpt\n",
            "Iter 7: HR = 0.6185, NDCG = 0.3540, Loss = 0.2711341083049774\t \n",
            "\n",
            "Epoch 1: saving model to /content/drive/MyDrive/data/ml-1m/gmf_on_gpu.ckpt\n",
            "Iter 8: HR = 0.6209, NDCG = 0.3558, Loss = 0.27028530836105347\t \n",
            "\n",
            "Epoch 1: saving model to /content/drive/MyDrive/data/ml-1m/gmf_on_gpu.ckpt\n",
            "Iter 9: HR = 0.6240, NDCG = 0.3571, Loss = 0.2696094810962677\t \n",
            "\n",
            "Epoch 1: saving model to /content/drive/MyDrive/data/ml-1m/gmf_on_gpu.ckpt\n",
            "Iter 10: HR = 0.6248, NDCG = 0.3574, Loss = 0.2690311372280121\t \n",
            "\n",
            "Epoch 1: saving model to /content/drive/MyDrive/data/ml-1m/gmf_on_gpu.ckpt\n"
          ]
        }
      ]
    },
    {
      "cell_type": "code",
      "source": [
        ""
      ],
      "metadata": {
        "id": "0dPB1MWnHCS8"
      },
      "execution_count": null,
      "outputs": []
    }
  ]
}