{
  "nbformat": 4,
  "nbformat_minor": 0,
  "metadata": {
    "colab": {
      "name": "auto_rec.ipynb",
      "provenance": [],
      "collapsed_sections": [],
      "authorship_tag": "ABX9TyM/9ik6+14NUtuRZvM2mcMY",
      "include_colab_link": true
    },
    "kernelspec": {
      "name": "python3",
      "display_name": "Python 3"
    },
    "language_info": {
      "name": "python"
    }
  },
  "cells": [
    {
      "cell_type": "markdown",
      "metadata": {
        "id": "view-in-github",
        "colab_type": "text"
      },
      "source": [
        "<a href=\"https://colab.research.google.com/github/jeffking1998/pytorch_RS_D2L/blob/main/auto_rec.ipynb\" target=\"_parent\"><img src=\"https://colab.research.google.com/assets/colab-badge.svg\" alt=\"Open In Colab\"/></a>"
      ]
    },
    {
      "cell_type": "markdown",
      "source": [
        "## 0. TODO\n",
        "train test, ratings 三个都要搞matrix 格式的，占用内存，需要解决。"
      ],
      "metadata": {
        "id": "u6E9V8jPRgxY"
      }
    },
    {
      "cell_type": "markdown",
      "source": [
        "## 1. Download & preprocess dataset -- MovieLens 100K\n"
      ],
      "metadata": {
        "id": "magiynVhGXAz"
      }
    },
    {
      "cell_type": "code",
      "source": [
        "import pandas as pd \n",
        "import numpy as np \n",
        "import tensorflow as tf"
      ],
      "metadata": {
        "id": "h9RnD-n-GvtH"
      },
      "execution_count": 2,
      "outputs": []
    },
    {
      "cell_type": "code",
      "source": [
        "# @title Load the MovieLens data (run this cell).\n",
        "\n",
        "# Download MovieLens data.\n",
        "print(\"Downloading movielens data...\")\n",
        "from urllib.request import urlretrieve\n",
        "import zipfile\n",
        "\n",
        "urlretrieve(\"http://files.grouplens.org/datasets/movielens/ml-100k.zip\", \"movielens.zip\")\n",
        "zip_ref = zipfile.ZipFile('movielens.zip', \"r\")\n",
        "zip_ref.extractall()\n",
        "print(\"Done. Dataset contains:\")\n",
        "print(zip_ref.read('ml-100k/u.info'))\n",
        "\n",
        "# Load each data set (users, movies, and ratings).\n",
        "users_cols = ['user_id', 'age', 'sex', 'occupation', 'zip_code']\n",
        "users = pd.read_csv(\n",
        "    'ml-100k/u.user', sep='|', names=users_cols, encoding='latin-1')\n",
        "\n",
        "ratings_cols = ['user_id', 'movie_id', 'rating', 'unix_timestamp']\n",
        "ratings = pd.read_csv(\n",
        "    'ml-100k/u.data', sep='\\t', names=ratings_cols, encoding='latin-1')\n",
        "\n",
        "# The movies file contains a binary feature for each genre.\n",
        "genre_cols = [\n",
        "    \"genre_unknown\", \"Action\", \"Adventure\", \"Animation\", \"Children\", \"Comedy\",\n",
        "    \"Crime\", \"Documentary\", \"Drama\", \"Fantasy\", \"Film-Noir\", \"Horror\",\n",
        "    \"Musical\", \"Mystery\", \"Romance\", \"Sci-Fi\", \"Thriller\", \"War\", \"Western\"\n",
        "]\n",
        "movies_cols = [\n",
        "    'movie_id', 'title', 'release_date', \"video_release_date\", \"imdb_url\"\n",
        "] + genre_cols\n",
        "movies = pd.read_csv(\n",
        "    'ml-100k/u.item', sep='|', names=movies_cols, encoding='latin-1')\n",
        "\n",
        "# Since the ids start at 1, we shift them to start at 0.\n",
        "users[\"user_id\"] = users[\"user_id\"].apply(lambda x: str(x-1))\n",
        "movies[\"movie_id\"] = movies[\"movie_id\"].apply(lambda x: str(x-1))\n",
        "movies[\"year\"] = movies['release_date'].apply(lambda x: str(x).split('-')[-1])\n",
        "ratings[\"movie_id\"] = ratings[\"movie_id\"].apply(lambda x: str(x-1))\n",
        "ratings[\"user_id\"] = ratings[\"user_id\"].apply(lambda x: str(x-1))\n",
        "ratings[\"rating\"] = ratings[\"rating\"].apply(lambda x: float(x))\n",
        "\n",
        "# # Compute the number of movies to which a genre is assigned.\n",
        "# genre_occurences = movies[genre_cols].sum().to_dict()\n",
        "\n",
        "# # Since some movies can belong to more than one genre, we create different\n",
        "# # 'genre' columns as follows:\n",
        "# # - all_genres: all the active genres of the movie.\n",
        "# # - genre: randomly sampled from the active genres.\n",
        "# def mark_genres(movies, genres):\n",
        "#   def get_random_genre(gs):\n",
        "#     active = [genre for genre, g in zip(genres, gs) if g==1]\n",
        "#     if len(active) == 0:\n",
        "#       return 'Other'\n",
        "#     return np.random.choice(active)\n",
        "#   def get_all_genres(gs):\n",
        "#     active = [genre for genre, g in zip(genres, gs) if g==1]\n",
        "#     if len(active) == 0:\n",
        "#       return 'Other'\n",
        "#     return '-'.join(active)\n",
        "#   movies['genre'] = [\n",
        "#       get_random_genre(gs) for gs in zip(*[movies[genre] for genre in genres])]\n",
        "#   movies['all_genres'] = [\n",
        "#       get_all_genres(gs) for gs in zip(*[movies[genre] for genre in genres])]\n",
        "\n",
        "# mark_genres(movies, genre_cols)\n",
        "\n",
        "# # Create one merged DataFrame containing all the movielens data.\n",
        "# movielens = ratings.merge(movies, on='movie_id').merge(users, on='user_id')\n",
        "\n",
        "# Utility to split the data into training and test sets.\n",
        "def split_dataframe(df, holdout_fraction=0.1):\n",
        "  \"\"\"Splits a DataFrame into training and test sets.\n",
        "  Args:\n",
        "    df: a dataframe.\n",
        "    holdout_fraction: fraction of dataframe rows to use in the test set.\n",
        "  Returns:\n",
        "    train: dataframe for training\n",
        "    test: dataframe for testing\n",
        "  \"\"\"\n",
        "  test = df.sample(frac=holdout_fraction, replace=False)\n",
        "  train = df[~df.index.isin(test.index)]\n",
        "  return train, test"
      ],
      "metadata": {
        "colab": {
          "base_uri": "https://localhost:8080/"
        },
        "id": "uDl9JDc2F_Zc",
        "outputId": "56fade9a-29e6-4bd8-ec64-75391191aa1c"
      },
      "execution_count": 15,
      "outputs": [
        {
          "output_type": "stream",
          "name": "stdout",
          "text": [
            "Downloading movielens data...\n",
            "Done. Dataset contains:\n",
            "b'943 users\\n1682 items\\n100000 ratings\\n'\n"
          ]
        }
      ]
    },
    {
      "cell_type": "code",
      "source": [
        "ratings.head()\n",
        "rating_bkup = ratings.copy()\n",
        "\n",
        "ratings['user_id'] = ratings['user_id'].astype(int)\n",
        "ratings['movie_id'] = ratings['movie_id'].astype(int)\n",
        "ratings['rating'] = ratings['rating'].astype(int)\n",
        "ratings.head()"
      ],
      "metadata": {
        "colab": {
          "base_uri": "https://localhost:8080/",
          "height": 206
        },
        "id": "rfiOo5d-F_VM",
        "outputId": "15eb3c21-0ac3-4b43-ae11-a5d292355968"
      },
      "execution_count": 16,
      "outputs": [
        {
          "output_type": "execute_result",
          "data": {
            "text/plain": [
              "   user_id  movie_id  rating  unix_timestamp\n",
              "0      195       241       3       881250949\n",
              "1      185       301       3       891717742\n",
              "2       21       376       1       878887116\n",
              "3      243        50       2       880606923\n",
              "4      165       345       1       886397596"
            ],
            "text/html": [
              "\n",
              "  <div id=\"df-e648a521-df72-4ab8-8178-483aa1755a30\">\n",
              "    <div class=\"colab-df-container\">\n",
              "      <div>\n",
              "<style scoped>\n",
              "    .dataframe tbody tr th:only-of-type {\n",
              "        vertical-align: middle;\n",
              "    }\n",
              "\n",
              "    .dataframe tbody tr th {\n",
              "        vertical-align: top;\n",
              "    }\n",
              "\n",
              "    .dataframe thead th {\n",
              "        text-align: right;\n",
              "    }\n",
              "</style>\n",
              "<table border=\"1\" class=\"dataframe\">\n",
              "  <thead>\n",
              "    <tr style=\"text-align: right;\">\n",
              "      <th></th>\n",
              "      <th>user_id</th>\n",
              "      <th>movie_id</th>\n",
              "      <th>rating</th>\n",
              "      <th>unix_timestamp</th>\n",
              "    </tr>\n",
              "  </thead>\n",
              "  <tbody>\n",
              "    <tr>\n",
              "      <th>0</th>\n",
              "      <td>195</td>\n",
              "      <td>241</td>\n",
              "      <td>3</td>\n",
              "      <td>881250949</td>\n",
              "    </tr>\n",
              "    <tr>\n",
              "      <th>1</th>\n",
              "      <td>185</td>\n",
              "      <td>301</td>\n",
              "      <td>3</td>\n",
              "      <td>891717742</td>\n",
              "    </tr>\n",
              "    <tr>\n",
              "      <th>2</th>\n",
              "      <td>21</td>\n",
              "      <td>376</td>\n",
              "      <td>1</td>\n",
              "      <td>878887116</td>\n",
              "    </tr>\n",
              "    <tr>\n",
              "      <th>3</th>\n",
              "      <td>243</td>\n",
              "      <td>50</td>\n",
              "      <td>2</td>\n",
              "      <td>880606923</td>\n",
              "    </tr>\n",
              "    <tr>\n",
              "      <th>4</th>\n",
              "      <td>165</td>\n",
              "      <td>345</td>\n",
              "      <td>1</td>\n",
              "      <td>886397596</td>\n",
              "    </tr>\n",
              "  </tbody>\n",
              "</table>\n",
              "</div>\n",
              "      <button class=\"colab-df-convert\" onclick=\"convertToInteractive('df-e648a521-df72-4ab8-8178-483aa1755a30')\"\n",
              "              title=\"Convert this dataframe to an interactive table.\"\n",
              "              style=\"display:none;\">\n",
              "        \n",
              "  <svg xmlns=\"http://www.w3.org/2000/svg\" height=\"24px\"viewBox=\"0 0 24 24\"\n",
              "       width=\"24px\">\n",
              "    <path d=\"M0 0h24v24H0V0z\" fill=\"none\"/>\n",
              "    <path d=\"M18.56 5.44l.94 2.06.94-2.06 2.06-.94-2.06-.94-.94-2.06-.94 2.06-2.06.94zm-11 1L8.5 8.5l.94-2.06 2.06-.94-2.06-.94L8.5 2.5l-.94 2.06-2.06.94zm10 10l.94 2.06.94-2.06 2.06-.94-2.06-.94-.94-2.06-.94 2.06-2.06.94z\"/><path d=\"M17.41 7.96l-1.37-1.37c-.4-.4-.92-.59-1.43-.59-.52 0-1.04.2-1.43.59L10.3 9.45l-7.72 7.72c-.78.78-.78 2.05 0 2.83L4 21.41c.39.39.9.59 1.41.59.51 0 1.02-.2 1.41-.59l7.78-7.78 2.81-2.81c.8-.78.8-2.07 0-2.86zM5.41 20L4 18.59l7.72-7.72 1.47 1.35L5.41 20z\"/>\n",
              "  </svg>\n",
              "      </button>\n",
              "      \n",
              "  <style>\n",
              "    .colab-df-container {\n",
              "      display:flex;\n",
              "      flex-wrap:wrap;\n",
              "      gap: 12px;\n",
              "    }\n",
              "\n",
              "    .colab-df-convert {\n",
              "      background-color: #E8F0FE;\n",
              "      border: none;\n",
              "      border-radius: 50%;\n",
              "      cursor: pointer;\n",
              "      display: none;\n",
              "      fill: #1967D2;\n",
              "      height: 32px;\n",
              "      padding: 0 0 0 0;\n",
              "      width: 32px;\n",
              "    }\n",
              "\n",
              "    .colab-df-convert:hover {\n",
              "      background-color: #E2EBFA;\n",
              "      box-shadow: 0px 1px 2px rgba(60, 64, 67, 0.3), 0px 1px 3px 1px rgba(60, 64, 67, 0.15);\n",
              "      fill: #174EA6;\n",
              "    }\n",
              "\n",
              "    [theme=dark] .colab-df-convert {\n",
              "      background-color: #3B4455;\n",
              "      fill: #D2E3FC;\n",
              "    }\n",
              "\n",
              "    [theme=dark] .colab-df-convert:hover {\n",
              "      background-color: #434B5C;\n",
              "      box-shadow: 0px 1px 3px 1px rgba(0, 0, 0, 0.15);\n",
              "      filter: drop-shadow(0px 1px 2px rgba(0, 0, 0, 0.3));\n",
              "      fill: #FFFFFF;\n",
              "    }\n",
              "  </style>\n",
              "\n",
              "      <script>\n",
              "        const buttonEl =\n",
              "          document.querySelector('#df-e648a521-df72-4ab8-8178-483aa1755a30 button.colab-df-convert');\n",
              "        buttonEl.style.display =\n",
              "          google.colab.kernel.accessAllowed ? 'block' : 'none';\n",
              "\n",
              "        async function convertToInteractive(key) {\n",
              "          const element = document.querySelector('#df-e648a521-df72-4ab8-8178-483aa1755a30');\n",
              "          const dataTable =\n",
              "            await google.colab.kernel.invokeFunction('convertToInteractive',\n",
              "                                                     [key], {});\n",
              "          if (!dataTable) return;\n",
              "\n",
              "          const docLinkHtml = 'Like what you see? Visit the ' +\n",
              "            '<a target=\"_blank\" href=https://colab.research.google.com/notebooks/data_table.ipynb>data table notebook</a>'\n",
              "            + ' to learn more about interactive tables.';\n",
              "          element.innerHTML = '';\n",
              "          dataTable['output_type'] = 'display_data';\n",
              "          await google.colab.output.renderOutput(dataTable, element);\n",
              "          const docLink = document.createElement('div');\n",
              "          docLink.innerHTML = docLinkHtml;\n",
              "          element.appendChild(docLink);\n",
              "        }\n",
              "      </script>\n",
              "    </div>\n",
              "  </div>\n",
              "  "
            ]
          },
          "metadata": {},
          "execution_count": 16
        }
      ]
    },
    {
      "cell_type": "code",
      "source": [
        "train_df, test_df = split_dataframe(ratings, 0.2)"
      ],
      "metadata": {
        "id": "YLLG5dd5F_OE"
      },
      "execution_count": 17,
      "outputs": []
    },
    {
      "cell_type": "code",
      "source": [
        "print(len(ratings),\n",
        "      len(train_df),\n",
        "      len(test_df),\n",
        ")"
      ],
      "metadata": {
        "colab": {
          "base_uri": "https://localhost:8080/"
        },
        "id": "VoerVHxPHWYx",
        "outputId": "46a62755-3102-43a2-b06c-8e087aab8a42"
      },
      "execution_count": 18,
      "outputs": [
        {
          "output_type": "stream",
          "name": "stdout",
          "text": [
            "100000 80000 20000\n"
          ]
        }
      ]
    },
    {
      "cell_type": "code",
      "source": [
        "train_np = train_df[['user_id', 'movie_id', 'rating']].to_numpy()"
      ],
      "metadata": {
        "id": "sHNLFS0mHWXJ"
      },
      "execution_count": 22,
      "outputs": []
    },
    {
      "cell_type": "code",
      "source": [
        "print(\n",
        "    len(users),\n",
        "    len(movies),\n",
        ")"
      ],
      "metadata": {
        "colab": {
          "base_uri": "https://localhost:8080/"
        },
        "id": "sB4ePimnIn1W",
        "outputId": "b5916985-ec68-42be-d0ed-b83dc60deac1"
      },
      "execution_count": 21,
      "outputs": [
        {
          "output_type": "stream",
          "name": "stdout",
          "text": [
            "943 1682\n"
          ]
        }
      ]
    },
    {
      "cell_type": "code",
      "source": [
        "def convert2matrix(tri_table, n_users, n_items):\n",
        "    matrix = np.zeros((n_users, n_items), dtype=np.float64) \n",
        "    for t in tri_table:\n",
        "        u, i, r = t \n",
        "        matrix[u,i] = r ## not 1, now has rating scores\n",
        "    return matrix \n",
        "\n",
        "X = convert2matrix(train_np, len(users), len(movies))"
      ],
      "metadata": {
        "id": "I3FVUOrBHWUU"
      },
      "execution_count": 23,
      "outputs": []
    },
    {
      "cell_type": "code",
      "source": [
        "test_np = test_df[['user_id', 'movie_id', 'rating']].to_numpy()\n",
        "\n",
        "test_matrix = convert2matrix(test_np, len(users), len(movies))\n",
        "test_mask_idx = np.sign(test_matrix)"
      ],
      "metadata": {
        "id": "_uRT07HnPLI8"
      },
      "execution_count": 44,
      "outputs": []
    },
    {
      "cell_type": "code",
      "source": [
        "ratings_np = ratings[['user_id', 'movie_id', 'rating']].to_numpy()\n",
        "ratings_matrix = convert2matrix(ratings_np, len(users), len(movies))"
      ],
      "metadata": {
        "id": "BQl1b69pPLF_"
      },
      "execution_count": 70,
      "outputs": []
    },
    {
      "cell_type": "code",
      "source": [
        ""
      ],
      "metadata": {
        "id": "-A6ZXGROPLC7"
      },
      "execution_count": null,
      "outputs": []
    },
    {
      "cell_type": "code",
      "source": [
        "X[:2, :10]"
      ],
      "metadata": {
        "colab": {
          "base_uri": "https://localhost:8080/"
        },
        "id": "c5AL4jWNHWSc",
        "outputId": "c2a0d809-e441-4660-95d8-32ee81e3e5e2"
      },
      "execution_count": 24,
      "outputs": [
        {
          "output_type": "execute_result",
          "data": {
            "text/plain": [
              "array([[5., 0., 0., 3., 0., 5., 4., 1., 0., 0.],\n",
              "       [4., 0., 0., 0., 0., 0., 0., 0., 0., 2.]])"
            ]
          },
          "metadata": {},
          "execution_count": 24
        }
      ]
    },
    {
      "cell_type": "code",
      "source": [
        ""
      ],
      "metadata": {
        "id": "XWAa8ff8HWQe"
      },
      "execution_count": null,
      "outputs": []
    },
    {
      "cell_type": "code",
      "source": [
        "#@title Load data from Numpy \n",
        "#reference: https://www.tensorflow.org/tutorials/load_data/numpy\n",
        "\n",
        "train_dataset = tf.data.Dataset.from_tensor_slices((X, X))\n",
        "# test_dataset = tf.data.Dataset.from_tensor_slices((test_examples, test_labels))\n",
        "\n",
        "BATCH_SIZE = 64\n",
        "SHUFFLE_BUFFER_SIZE = 100\n",
        "\n",
        "train_dataset = train_dataset.shuffle(SHUFFLE_BUFFER_SIZE).batch(BATCH_SIZE)\n",
        "# test_dataset = test_dataset.batch(BATCH_SIZE)\n"
      ],
      "metadata": {
        "id": "v8jX1AIJYSs0"
      },
      "execution_count": 25,
      "outputs": []
    },
    {
      "cell_type": "code",
      "source": [
        "# # idx = 0\n",
        "# xxx = 0\n",
        "# for train_ele in train_dataset:\n",
        "#     xxx = train_ele\n",
        "#     break"
      ],
      "metadata": {
        "id": "O3_Dm4KyJ0gU"
      },
      "execution_count": 27,
      "outputs": []
    },
    {
      "cell_type": "code",
      "source": [
        "# xxx"
      ],
      "metadata": {
        "colab": {
          "base_uri": "https://localhost:8080/"
        },
        "id": "lA201DkZJ0du",
        "outputId": "40878fd3-a8b7-41b5-d15d-2e1a735f5d82"
      },
      "execution_count": 28,
      "outputs": [
        {
          "output_type": "execute_result",
          "data": {
            "text/plain": [
              "(<tf.Tensor: shape=(64, 1682), dtype=float64, numpy=\n",
              " array([[0., 4., 0., ..., 0., 0., 0.],\n",
              "        [5., 0., 0., ..., 0., 0., 0.],\n",
              "        [5., 0., 0., ..., 0., 0., 0.],\n",
              "        ...,\n",
              "        [0., 0., 0., ..., 0., 0., 0.],\n",
              "        [0., 0., 0., ..., 0., 0., 0.],\n",
              "        [0., 0., 0., ..., 0., 0., 0.]])>,\n",
              " <tf.Tensor: shape=(64, 1682), dtype=float64, numpy=\n",
              " array([[0., 4., 0., ..., 0., 0., 0.],\n",
              "        [5., 0., 0., ..., 0., 0., 0.],\n",
              "        [5., 0., 0., ..., 0., 0., 0.],\n",
              "        ...,\n",
              "        [0., 0., 0., ..., 0., 0., 0.],\n",
              "        [0., 0., 0., ..., 0., 0., 0.],\n",
              "        [0., 0., 0., ..., 0., 0., 0.]])>)"
            ]
          },
          "metadata": {},
          "execution_count": 28
        }
      ]
    },
    {
      "cell_type": "code",
      "source": [
        ""
      ],
      "metadata": {
        "id": "XKbwfzxKJ0Za"
      },
      "execution_count": null,
      "outputs": []
    },
    {
      "cell_type": "code",
      "source": [
        ""
      ],
      "metadata": {
        "id": "TEyBbeCeF_Hb"
      },
      "execution_count": null,
      "outputs": []
    },
    {
      "cell_type": "code",
      "source": [
        "# TensorFlow and tf.keras\n",
        "import tensorflow as tf\n",
        "from tensorflow import keras\n",
        "\n",
        "# Helper libraries\n",
        "import numpy as np\n",
        "import matplotlib.pyplot as plt\n",
        "\n",
        "print(tf.__version__)\n",
        "from keras.layers import Input, Embedding, Flatten, Multiply, Dense, Concatenate\n",
        "from keras import regularizers\n",
        "from keras.models import Model"
      ],
      "metadata": {
        "colab": {
          "base_uri": "https://localhost:8080/"
        },
        "id": "6bdR9Jkc3sFQ",
        "outputId": "bfda6730-437d-42c0-c440-89dd3fb541e1"
      },
      "execution_count": 29,
      "outputs": [
        {
          "output_type": "stream",
          "name": "stdout",
          "text": [
            "2.8.0\n"
          ]
        }
      ]
    },
    {
      "cell_type": "code",
      "execution_count": 30,
      "metadata": {
        "colab": {
          "base_uri": "https://localhost:8080/"
        },
        "id": "GJaKGGXxz1T5",
        "outputId": "568360a1-c423-475e-9e0c-bbb519e7000a"
      },
      "outputs": [
        {
          "output_type": "stream",
          "name": "stdout",
          "text": [
            "Model: \"AutoRec\"\n",
            "_________________________________________________________________\n",
            " Layer (type)                Output Shape              Param #   \n",
            "=================================================================\n",
            " encoder (Dense)             (None, 50)                84150     \n",
            "                                                                 \n",
            " dencoder (Dense)            (None, 1682)              85782     \n",
            "                                                                 \n",
            "=================================================================\n",
            "Total params: 169,932\n",
            "Trainable params: 169,932\n",
            "Non-trainable params: 0\n",
            "_________________________________________________________________\n"
          ]
        }
      ],
      "source": [
        "def get_model(data_shape, hidden_shape, regs = [0.01, 0.01]):\n",
        "    model = tf.keras.Sequential(name='AutoRec')\n",
        "    model.add(tf.keras.layers.InputLayer(input_shape=(data_shape,), name='input'))\n",
        "    model.add(tf.keras.layers.Dense(hidden_shape, activation='sigmoid', use_bias=True, kernel_regularizer=tf.keras.regularizers.L2(regs[0]), name='encoder'))\n",
        "    model.add(tf.keras.layers.Dense(units=data_shape, use_bias=True, kernel_regularizer=tf.keras.regularizers.L2(regs[1]), name='dencoder'))\n",
        "    return model\n",
        "\n",
        "\n",
        "data_shape = len(movies)\n",
        "hidden_shape = 50\n",
        "model = get_model(data_shape, hidden_shape) \n",
        "\n",
        "model.summary()"
      ]
    },
    {
      "cell_type": "code",
      "source": [
        "#@title custom loss\n",
        "\n",
        "def my_loss(y_true, y_pred):\n",
        "    mask = np.sign(y_true)\n",
        "    error = tf.math.square(y_true - y_pred)\n",
        "    loss = tf.reduce_sum(error * mask, axis = -1) \n",
        "    \"\"\"\n",
        "    因为传入的loss函数只能接收y_ture & y_pred，这样子loss要想加入对于W&V\n",
        "    的l2norm就不行了。\n",
        "    \"\"\"\n",
        "    return loss \n",
        "\n",
        "\n",
        "def my_loss_with_l2norm(model, reg_factor=0):\n",
        "    def my_loss(y_true, y_pred):\n",
        "        # mask = np.sign(y_true)\n",
        "        mask = tf.math.sign(y_true)\n",
        "        error = tf.math.square(y_true - y_pred)\n",
        "        loss = tf.reduce_sum(error * mask, axis = -1)\n",
        "        if reg_factor != 0:\n",
        "            reg = 0\n",
        "            weight = model.weights\n",
        "            for w in weight:\n",
        "                if 'bias' not in w.name:\n",
        "                    reg += tf.reduce_sum(tf.square(w))\n",
        "            loss += reg_factor * 0.5 * reg\n",
        "        return loss \n",
        "    return my_loss\n"
      ],
      "metadata": {
        "id": "9qEe0UfBYn-1"
      },
      "execution_count": 35,
      "outputs": []
    },
    {
      "cell_type": "code",
      "source": [
        "model.compile(loss=my_loss_with_l2norm(model, 0.01),optimizer=tf.keras.optimizers.Adam())"
      ],
      "metadata": {
        "id": "DQiZYBww3t8O"
      },
      "execution_count": 36,
      "outputs": []
    },
    {
      "cell_type": "code",
      "source": [
        "# TODO\n",
        "# LOSS HOW TO BUILD A LOSS "
      ],
      "metadata": {
        "id": "aDfSNL5P3tyg"
      },
      "execution_count": null,
      "outputs": []
    },
    {
      "cell_type": "code",
      "source": [
        "#@title fit & evaluate\n",
        "\n",
        "his = model.fit(train_dataset, epochs=100)\n",
        "\n",
        "# model.evaluate(test_dataset)"
      ],
      "metadata": {
        "colab": {
          "base_uri": "https://localhost:8080/"
        },
        "id": "ratbm1NjYi8U",
        "outputId": "b035857b-51d9-4494-b7c1-41e2e91cfd61"
      },
      "execution_count": 63,
      "outputs": [
        {
          "output_type": "stream",
          "name": "stdout",
          "text": [
            "Epoch 1/100\n",
            "15/15 [==============================] - 0s 8ms/step - loss: 63.7201\n",
            "Epoch 2/100\n",
            "15/15 [==============================] - 0s 8ms/step - loss: 63.6510\n",
            "Epoch 3/100\n",
            "15/15 [==============================] - 0s 9ms/step - loss: 63.5250\n",
            "Epoch 4/100\n",
            "15/15 [==============================] - 0s 8ms/step - loss: 63.4639\n",
            "Epoch 5/100\n",
            "15/15 [==============================] - 0s 9ms/step - loss: 63.3906\n",
            "Epoch 6/100\n",
            "15/15 [==============================] - 0s 9ms/step - loss: 63.3060\n",
            "Epoch 7/100\n",
            "15/15 [==============================] - 0s 9ms/step - loss: 63.2723\n",
            "Epoch 8/100\n",
            "15/15 [==============================] - 0s 10ms/step - loss: 63.2203\n",
            "Epoch 9/100\n",
            "15/15 [==============================] - 0s 9ms/step - loss: 63.1466\n",
            "Epoch 10/100\n",
            "15/15 [==============================] - 0s 8ms/step - loss: 63.1410\n",
            "Epoch 11/100\n",
            "15/15 [==============================] - 0s 9ms/step - loss: 63.1206\n",
            "Epoch 12/100\n",
            "15/15 [==============================] - 0s 9ms/step - loss: 63.0643\n",
            "Epoch 13/100\n",
            "15/15 [==============================] - 0s 9ms/step - loss: 63.1398\n",
            "Epoch 14/100\n",
            "15/15 [==============================] - 0s 9ms/step - loss: 63.1099\n",
            "Epoch 15/100\n",
            "15/15 [==============================] - 0s 9ms/step - loss: 63.0155\n",
            "Epoch 16/100\n",
            "15/15 [==============================] - 0s 9ms/step - loss: 63.1041\n",
            "Epoch 17/100\n",
            "15/15 [==============================] - 0s 9ms/step - loss: 62.9922\n",
            "Epoch 18/100\n",
            "15/15 [==============================] - 0s 10ms/step - loss: 62.8353\n",
            "Epoch 19/100\n",
            "15/15 [==============================] - 0s 10ms/step - loss: 62.8626\n",
            "Epoch 20/100\n",
            "15/15 [==============================] - 0s 9ms/step - loss: 62.6562\n",
            "Epoch 21/100\n",
            "15/15 [==============================] - 0s 10ms/step - loss: 62.5819\n",
            "Epoch 22/100\n",
            "15/15 [==============================] - 0s 10ms/step - loss: 62.4833\n",
            "Epoch 23/100\n",
            "15/15 [==============================] - 0s 9ms/step - loss: 62.4014\n",
            "Epoch 24/100\n",
            "15/15 [==============================] - 0s 10ms/step - loss: 62.3217\n",
            "Epoch 25/100\n",
            "15/15 [==============================] - 0s 9ms/step - loss: 62.2711\n",
            "Epoch 26/100\n",
            "15/15 [==============================] - 0s 9ms/step - loss: 62.1934\n",
            "Epoch 27/100\n",
            "15/15 [==============================] - 0s 9ms/step - loss: 62.1575\n",
            "Epoch 28/100\n",
            "15/15 [==============================] - 0s 9ms/step - loss: 62.1130\n",
            "Epoch 29/100\n",
            "15/15 [==============================] - 0s 9ms/step - loss: 62.1093\n",
            "Epoch 30/100\n",
            "15/15 [==============================] - 0s 9ms/step - loss: 62.0836\n",
            "Epoch 31/100\n",
            "15/15 [==============================] - 0s 9ms/step - loss: 62.0611\n",
            "Epoch 32/100\n",
            "15/15 [==============================] - 0s 9ms/step - loss: 62.0006\n",
            "Epoch 33/100\n",
            "15/15 [==============================] - 0s 10ms/step - loss: 62.0096\n",
            "Epoch 34/100\n",
            "15/15 [==============================] - 0s 9ms/step - loss: 62.0928\n",
            "Epoch 35/100\n",
            "15/15 [==============================] - 0s 9ms/step - loss: 62.0165\n",
            "Epoch 36/100\n",
            "15/15 [==============================] - 0s 9ms/step - loss: 62.1522\n",
            "Epoch 37/100\n",
            "15/15 [==============================] - 0s 10ms/step - loss: 62.2611\n",
            "Epoch 38/100\n",
            "15/15 [==============================] - 0s 9ms/step - loss: 62.0187\n",
            "Epoch 39/100\n",
            "15/15 [==============================] - 0s 9ms/step - loss: 61.9740\n",
            "Epoch 40/100\n",
            "15/15 [==============================] - 0s 9ms/step - loss: 61.8618\n",
            "Epoch 41/100\n",
            "15/15 [==============================] - 0s 9ms/step - loss: 61.6353\n",
            "Epoch 42/100\n",
            "15/15 [==============================] - 0s 9ms/step - loss: 61.5648\n",
            "Epoch 43/100\n",
            "15/15 [==============================] - 0s 9ms/step - loss: 61.4519\n",
            "Epoch 44/100\n",
            "15/15 [==============================] - 0s 9ms/step - loss: 61.4041\n",
            "Epoch 45/100\n",
            "15/15 [==============================] - 0s 9ms/step - loss: 61.3564\n",
            "Epoch 46/100\n",
            "15/15 [==============================] - 0s 9ms/step - loss: 61.2954\n",
            "Epoch 47/100\n",
            "15/15 [==============================] - 0s 9ms/step - loss: 61.2839\n",
            "Epoch 48/100\n",
            "15/15 [==============================] - 0s 9ms/step - loss: 61.2180\n",
            "Epoch 49/100\n",
            "15/15 [==============================] - 0s 10ms/step - loss: 61.1648\n",
            "Epoch 50/100\n",
            "15/15 [==============================] - 0s 10ms/step - loss: 61.1652\n",
            "Epoch 51/100\n",
            "15/15 [==============================] - 0s 9ms/step - loss: 61.1040\n",
            "Epoch 52/100\n",
            "15/15 [==============================] - 0s 10ms/step - loss: 61.1087\n",
            "Epoch 53/100\n",
            "15/15 [==============================] - 0s 10ms/step - loss: 61.1266\n",
            "Epoch 54/100\n",
            "15/15 [==============================] - 0s 10ms/step - loss: 61.0704\n",
            "Epoch 55/100\n",
            "15/15 [==============================] - 0s 9ms/step - loss: 61.0494\n",
            "Epoch 56/100\n",
            "15/15 [==============================] - 0s 9ms/step - loss: 61.1177\n",
            "Epoch 57/100\n",
            "15/15 [==============================] - 0s 10ms/step - loss: 61.0593\n",
            "Epoch 58/100\n",
            "15/15 [==============================] - 0s 9ms/step - loss: 61.0362\n",
            "Epoch 59/100\n",
            "15/15 [==============================] - 0s 9ms/step - loss: 61.1254\n",
            "Epoch 60/100\n",
            "15/15 [==============================] - 0s 9ms/step - loss: 61.0074\n",
            "Epoch 61/100\n",
            "15/15 [==============================] - 0s 9ms/step - loss: 60.8925\n",
            "Epoch 62/100\n",
            "15/15 [==============================] - 0s 9ms/step - loss: 60.8629\n",
            "Epoch 63/100\n",
            "15/15 [==============================] - 0s 9ms/step - loss: 60.6809\n",
            "Epoch 64/100\n",
            "15/15 [==============================] - 0s 9ms/step - loss: 60.6338\n",
            "Epoch 65/100\n",
            "15/15 [==============================] - 0s 9ms/step - loss: 60.5507\n",
            "Epoch 66/100\n",
            "15/15 [==============================] - 0s 9ms/step - loss: 60.4785\n",
            "Epoch 67/100\n",
            "15/15 [==============================] - 0s 9ms/step - loss: 60.4561\n",
            "Epoch 68/100\n",
            "15/15 [==============================] - 0s 15ms/step - loss: 60.3936\n",
            "Epoch 69/100\n",
            "15/15 [==============================] - 0s 13ms/step - loss: 60.3654\n",
            "Epoch 70/100\n",
            "15/15 [==============================] - 0s 10ms/step - loss: 60.3607\n",
            "Epoch 71/100\n",
            "15/15 [==============================] - 0s 9ms/step - loss: 60.3321\n",
            "Epoch 72/100\n",
            "15/15 [==============================] - 0s 10ms/step - loss: 60.3037\n",
            "Epoch 73/100\n",
            "15/15 [==============================] - 0s 9ms/step - loss: 60.3548\n",
            "Epoch 74/100\n",
            "15/15 [==============================] - 0s 9ms/step - loss: 60.3586\n",
            "Epoch 75/100\n",
            "15/15 [==============================] - 0s 10ms/step - loss: 60.3290\n",
            "Epoch 76/100\n",
            "15/15 [==============================] - 0s 10ms/step - loss: 60.5605\n",
            "Epoch 77/100\n",
            "15/15 [==============================] - 0s 10ms/step - loss: 60.5197\n",
            "Epoch 78/100\n",
            "15/15 [==============================] - 0s 10ms/step - loss: 60.3555\n",
            "Epoch 79/100\n",
            "15/15 [==============================] - 0s 9ms/step - loss: 60.4879\n",
            "Epoch 80/100\n",
            "15/15 [==============================] - 0s 9ms/step - loss: 60.3047\n",
            "Epoch 81/100\n",
            "15/15 [==============================] - 0s 9ms/step - loss: 60.1646\n",
            "Epoch 82/100\n",
            "15/15 [==============================] - 0s 9ms/step - loss: 60.0668\n",
            "Epoch 83/100\n",
            "15/15 [==============================] - 0s 9ms/step - loss: 59.9460\n",
            "Epoch 84/100\n",
            "15/15 [==============================] - 0s 9ms/step - loss: 59.8953\n",
            "Epoch 85/100\n",
            "15/15 [==============================] - 0s 10ms/step - loss: 59.8017\n",
            "Epoch 86/100\n",
            "15/15 [==============================] - 0s 10ms/step - loss: 59.7850\n",
            "Epoch 87/100\n",
            "15/15 [==============================] - 0s 10ms/step - loss: 59.7706\n",
            "Epoch 88/100\n",
            "15/15 [==============================] - 0s 9ms/step - loss: 59.6881\n",
            "Epoch 89/100\n",
            "15/15 [==============================] - 0s 9ms/step - loss: 59.6784\n",
            "Epoch 90/100\n",
            "15/15 [==============================] - 0s 9ms/step - loss: 59.6530\n",
            "Epoch 91/100\n",
            "15/15 [==============================] - 0s 9ms/step - loss: 59.6397\n",
            "Epoch 92/100\n",
            "15/15 [==============================] - 0s 9ms/step - loss: 59.7008\n",
            "Epoch 93/100\n",
            "15/15 [==============================] - 0s 9ms/step - loss: 59.6609\n",
            "Epoch 94/100\n",
            "15/15 [==============================] - 0s 9ms/step - loss: 59.5828\n",
            "Epoch 95/100\n",
            "15/15 [==============================] - 0s 9ms/step - loss: 59.6571\n",
            "Epoch 96/100\n",
            "15/15 [==============================] - 0s 10ms/step - loss: 59.6872\n",
            "Epoch 97/100\n",
            "15/15 [==============================] - 0s 10ms/step - loss: 59.6260\n",
            "Epoch 98/100\n",
            "15/15 [==============================] - 0s 9ms/step - loss: 59.7718\n",
            "Epoch 99/100\n",
            "15/15 [==============================] - 0s 9ms/step - loss: 59.7020\n",
            "Epoch 100/100\n",
            "15/15 [==============================] - 0s 9ms/step - loss: 59.5670\n"
          ]
        }
      ]
    },
    {
      "cell_type": "code",
      "source": [
        "plt.figure(dpi=200,figsize=(18,5))\n",
        "plt.plot(his.history['loss'],label='loss')\n",
        "plt.legend()\n",
        "plt.grid()"
      ],
      "metadata": {
        "colab": {
          "base_uri": "https://localhost:8080/",
          "height": 542
        },
        "id": "Q7x9RLm1LDix",
        "outputId": "d1f1540e-962b-4d59-caee-6e33d230454d"
      },
      "execution_count": 64,
      "outputs": [
        {
          "output_type": "display_data",
          "data": {
            "text/plain": [
              "<Figure size 3600x1000 with 1 Axes>"
            ],
            "image/png": "[encoded data removed]"
          },
          "metadata": {
            "needs_background": "light"
          }
        }
      ]
    },
    {
      "cell_type": "markdown",
      "source": [
        "## evaluate \n",
        "现在的是肯定不对的"
      ],
      "metadata": {
        "id": "qeS1qAhOOIAr"
      }
    },
    {
      "cell_type": "code",
      "source": [
        "hat_X = model.predict(X)"
      ],
      "metadata": {
        "id": "o-QGTkuMLMVO"
      },
      "execution_count": 65,
      "outputs": []
    },
    {
      "cell_type": "code",
      "source": [
        "size_test = len(test_df)"
      ],
      "metadata": {
        "id": "d_kEwV1tPnRg"
      },
      "execution_count": 45,
      "outputs": []
    },
    {
      "cell_type": "code",
      "source": [
        "test_rmse = np.sqrt(np.sum(np.square((hat_X - ratings_matrix) * test_mask_idx)) / size_test)"
      ],
      "metadata": {
        "id": "34QlURD7O2q4"
      },
      "execution_count": 71,
      "outputs": []
    },
    {
      "cell_type": "code",
      "source": [
        "test_rmse"
      ],
      "metadata": {
        "colab": {
          "base_uri": "https://localhost:8080/"
        },
        "id": "8ngirG3bPE1s",
        "outputId": "d3f07f78-7a2a-40d8-fa0e-694100d72bd0"
      },
      "execution_count": 72,
      "outputs": [
        {
          "output_type": "execute_result",
          "data": {
            "text/plain": [
              "0.9367992286925921"
            ]
          },
          "metadata": {},
          "execution_count": 72
        }
      ]
    },
    {
      "cell_type": "code",
      "source": [
        "err = (hat_X - ratings_matrix) * test_mask_idx\n",
        "err[:2][:10]"
      ],
      "metadata": {
        "colab": {
          "base_uri": "https://localhost:8080/"
        },
        "id": "CqTjBzyRP4Gu",
        "outputId": "1a4fc8cb-858e-41ba-aca7-5cf54ae6eae7"
      },
      "execution_count": 73,
      "outputs": [
        {
          "output_type": "execute_result",
          "data": {
            "text/plain": [
              "array([[-0.        , -0.01412344, -0.52490163, ...,  0.        ,\n",
              "         0.        ,  0.        ],\n",
              "       [-0.        ,  0.        ,  0.        , ...,  0.        ,\n",
              "         0.        ,  0.        ]])"
            ]
          },
          "metadata": {},
          "execution_count": 73
        }
      ]
    },
    {
      "cell_type": "code",
      "source": [
        "# X[:2][:10]"
      ],
      "metadata": {
        "colab": {
          "base_uri": "https://localhost:8080/"
        },
        "id": "PCcFlmc0P7dM",
        "outputId": "0b2a5b18-a6fd-4a76-acc9-04cba0415882"
      },
      "execution_count": 69,
      "outputs": [
        {
          "output_type": "execute_result",
          "data": {
            "text/plain": [
              "array([[5., 0., 0., ..., 0., 0., 0.],\n",
              "       [4., 0., 0., ..., 0., 0., 0.]])"
            ]
          },
          "metadata": {},
          "execution_count": 69
        }
      ]
    },
    {
      "cell_type": "code",
      "source": [
        ""
      ],
      "metadata": {
        "id": "P6JWD2hBRAmi"
      },
      "execution_count": null,
      "outputs": []
    }
  ]
}